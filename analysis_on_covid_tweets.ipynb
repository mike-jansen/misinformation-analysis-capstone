{
  "nbformat": 4,
  "nbformat_minor": 0,
  "metadata": {
    "colab": {
      "provenance": [],
      "authorship_tag": "ABX9TyNP1KVIJnf2SdeTLVALQ6/M",
      "include_colab_link": true
    },
    "kernelspec": {
      "name": "python3",
      "display_name": "Python 3"
    },
    "language_info": {
      "name": "python"
    }
  },
  "cells": [
    {
      "cell_type": "markdown",
      "metadata": {
        "id": "view-in-github",
        "colab_type": "text"
      },
      "source": [
        "<a href=\"https://colab.research.google.com/github/mike-jansen/misinformation-analysis-capstone/blob/main/analysis_on_covid_tweets.ipynb\" target=\"_parent\"><img src=\"https://colab.research.google.com/assets/colab-badge.svg\" alt=\"Open In Colab\"/></a>"
      ]
    },
    {
      "cell_type": "markdown",
      "source": [
        "# Setup\n",
        "Link to python package: https://pypi.org/project/NRCLex/"
      ],
      "metadata": {
        "id": "T2GVcVNLGHpO"
      }
    },
    {
      "cell_type": "code",
      "execution_count": null,
      "metadata": {
        "id": "MrcmYRHwFjxa",
        "colab": {
          "base_uri": "https://localhost:8080/"
        },
        "outputId": "2c47dda2-c230-41c1-c889-d88083b2d709"
      },
      "outputs": [
        {
          "output_type": "stream",
          "name": "stdout",
          "text": [
            "Looking in indexes: https://pypi.org/simple, https://us-python.pkg.dev/colab-wheels/public/simple/\n",
            "Collecting NRCLex\n",
            "  Downloading NRCLex-4.0-py3-none-any.whl (4.4 kB)\n",
            "Requirement already satisfied: textblob in /usr/local/lib/python3.10/dist-packages (from NRCLex) (0.17.1)\n",
            "INFO: pip is looking at multiple versions of nrclex to determine which version is compatible with other requirements. This could take a while.\n",
            "  Downloading NRCLex-3.0.0.tar.gz (396 kB)\n",
            "\u001b[2K     \u001b[90m━━━━━━━━━━━━━━━━━━━━━━━━━━━━━━━━━━━━━━━\u001b[0m \u001b[32m396.4/396.4 kB\u001b[0m \u001b[31m8.4 MB/s\u001b[0m eta \u001b[36m0:00:00\u001b[0m\n",
            "\u001b[?25h  Preparing metadata (setup.py) ... \u001b[?25l\u001b[?25hdone\n",
            "Requirement already satisfied: nltk>=3.1 in /usr/local/lib/python3.10/dist-packages (from textblob->NRCLex) (3.8.1)\n",
            "Requirement already satisfied: click in /usr/local/lib/python3.10/dist-packages (from nltk>=3.1->textblob->NRCLex) (8.1.3)\n",
            "Requirement already satisfied: joblib in /usr/local/lib/python3.10/dist-packages (from nltk>=3.1->textblob->NRCLex) (1.2.0)\n",
            "Requirement already satisfied: regex>=2021.8.3 in /usr/local/lib/python3.10/dist-packages (from nltk>=3.1->textblob->NRCLex) (2022.10.31)\n",
            "Requirement already satisfied: tqdm in /usr/local/lib/python3.10/dist-packages (from nltk>=3.1->textblob->NRCLex) (4.65.0)\n",
            "Building wheels for collected packages: NRCLex\n",
            "  Building wheel for NRCLex (setup.py) ... \u001b[?25l\u001b[?25hdone\n",
            "  Created wheel for NRCLex: filename=NRCLex-3.0.0-py3-none-any.whl size=43308 sha256=b364dd23fb24fb6a0adc18fc07cbe215f97173d9e344b8730615d7a0ca2924c4\n",
            "  Stored in directory: /root/.cache/pip/wheels/d2/10/44/6abfb1234298806a145fd6bcaec8cbc712e88dd1cd6cb242fa\n",
            "Successfully built NRCLex\n",
            "Installing collected packages: NRCLex\n",
            "Successfully installed NRCLex-3.0.0\n",
            "Mounted at /content/drive/\n"
          ]
        }
      ],
      "source": [
        "!pip install NRCLex\n",
        "from nrclex import NRCLex\n",
        "\n",
        "import pandas as pd\n",
        "import numpy as np\n",
        "from google.colab import drive\n",
        "drive.mount('/content/drive/')\n",
        "\n",
        "from collections import defaultdict\n",
        "import json"
      ]
    },
    {
      "cell_type": "code",
      "source": [
        "# read the csv (can be slow)\n",
        "path = '/content/drive/My Drive/Colab Notebooks/data/research/US Covid Tweets/Combined_US_Covid_Tweets.csv'\n",
        "df = pd.read_csv(path)"
      ],
      "metadata": {
        "id": "o1p6i-3eHD7h",
        "colab": {
          "base_uri": "https://localhost:8080/"
        },
        "outputId": "628b6fc7-4e26-496a-e9a6-25473b17c201"
      },
      "execution_count": null,
      "outputs": [
        {
          "output_type": "stream",
          "name": "stderr",
          "text": [
            "<ipython-input-2-745d29b7bf92>:3: DtypeWarning: Columns (28,29,30,40,42,43,44,68,69,70) have mixed types. Specify dtype option on import or set low_memory=False.\n",
            "  df = pd.read_csv(path)\n"
          ]
        }
      ]
    },
    {
      "cell_type": "code",
      "source": [
        "# import the punkt tokenizer for NRCLex to work\n",
        "import nltk\n",
        "nltk.download('punkt')"
      ],
      "metadata": {
        "id": "wP3YD1K7NcXM",
        "colab": {
          "base_uri": "https://localhost:8080/"
        },
        "outputId": "ad1e1152-b882-46aa-8613-67e6725763bf"
      },
      "execution_count": null,
      "outputs": [
        {
          "output_type": "stream",
          "name": "stderr",
          "text": [
            "[nltk_data] Downloading package punkt to /root/nltk_data...\n",
            "[nltk_data]   Unzipping tokenizers/punkt.zip.\n"
          ]
        },
        {
          "output_type": "execute_result",
          "data": {
            "text/plain": [
              "True"
            ]
          },
          "metadata": {},
          "execution_count": 3
        }
      ]
    },
    {
      "cell_type": "markdown",
      "source": [
        "\n",
        "# Calculating the Scores"
      ],
      "metadata": {
        "id": "7HbrY_CJC-Wz"
      }
    },
    {
      "cell_type": "code",
      "source": [
        "# filter out the text of the tweets\n",
        "text_only = df['text']\n",
        "emotions_count = defaultdict(int)\n",
        "raw_count = defaultdict(int)\n",
        "\n",
        "for sentence in text_only[0:1000]:\n",
        "  lexicon = NRCLex(sentence)\n",
        "  top_emotions = lexicon.top_emotions\n",
        "  raw_scores = lexicon.raw_emotion_scores\n",
        "\n",
        "  for emotion, score in top_emotions:\n",
        "    emotions_count[emotion] += score\n",
        "\n",
        "  for emotion, score in raw_scores.items():\n",
        "    raw_count[emotion] += score\n",
        "\n",
        "  # print(\"Text: \", sentence)\n",
        "  # print(\"Top Emotions: \", top_emotions)\n",
        "  # print(\"Raw Scores: \", raw_scores)\n",
        "  # print()"
      ],
      "metadata": {
        "id": "_DCoPKUNJeee"
      },
      "execution_count": null,
      "outputs": []
    },
    {
      "cell_type": "markdown",
      "source": [
        "#Results"
      ],
      "metadata": {
        "id": "hPw6lHZQC6_Y"
      }
    },
    {
      "cell_type": "code",
      "source": [
        "# Printing the output\n",
        "\n",
        "print(\"Top Emotions: \")\n",
        "# Sort the emotion counts dictionary by value in descending order\n",
        "sorted_emotion_counts = dict(sorted(emotions_count.items(), key=lambda x: x[1], reverse=True))\n",
        "# Print the sorted emotion counts dictionary with indentation\n",
        "print(json.dumps(sorted_emotion_counts, indent=4))\n",
        "\n",
        "print(\"Raw Counts:\")\n",
        "# Sort the emotion counts dictionary by value in descending order\n",
        "sorted_raw_counts = dict(sorted(raw_count.items(), key=lambda x: x[1], reverse=True))\n",
        "# Print the sorted emotion counts dictionary with indentation\n",
        "print(json.dumps(sorted_raw_counts, indent=4))"
      ],
      "metadata": {
        "id": "jMzPaec4DF-A",
        "colab": {
          "base_uri": "https://localhost:8080/"
        },
        "outputId": "c133fd52-0d60-4b83-e3aa-5ab7c8b8e6cb"
      },
      "execution_count": null,
      "outputs": [
        {
          "output_type": "stream",
          "name": "stdout",
          "text": [
            "Top Emotions: \n",
            "{\n",
            "    \"negative\": 179.78147098560348,\n",
            "    \"positive\": 129.41005472425744,\n",
            "    \"fear\": 83.89673430284886,\n",
            "    \"trust\": 60.03866778216625,\n",
            "    \"anticipation\": 34.656727830992516,\n",
            "    \"sadness\": 18.608671720436423,\n",
            "    \"joy\": 9.307373019137726,\n",
            "    \"anger\": 7.862720612720613,\n",
            "    \"disgust\": 6.2999000999001,\n",
            "    \"surprise\": 6.06991341991342,\n",
            "    \"anticip\": 0.0\n",
            "}\n",
            "Raw Counts:\n",
            "{\n",
            "    \"negative\": 1235,\n",
            "    \"fear\": 911,\n",
            "    \"positive\": 806,\n",
            "    \"sadness\": 515,\n",
            "    \"trust\": 490,\n",
            "    \"anticipation\": 347,\n",
            "    \"anger\": 294,\n",
            "    \"surprise\": 249,\n",
            "    \"disgust\": 195,\n",
            "    \"joy\": 171\n",
            "}\n"
          ]
        }
      ]
    },
    {
      "cell_type": "code",
      "source": [
        "# Plotting the output\n",
        "import matplotlib.pyplot as plt\n",
        "\n",
        "# Extract emotion categories and scores as separate lists for the first metric\n",
        "categories1 = list(sorted_emotion_counts.keys())\n",
        "scores1 = list(sorted_emotion_counts.values())\n",
        "\n",
        "# Extract categories and raw counts as separate lists for the second metric\n",
        "categories2 = list(sorted_raw_counts.keys())\n",
        "scores2 = list(sorted_raw_counts.values())\n",
        "\n",
        "# Create a grid of subplots with 1 row and 2 columns\n",
        "fig, axs = plt.subplots(1, 2, figsize=(10, 5))\n",
        "\n",
        "# Plot the first graph on the left subplot\n",
        "axs[0].bar(categories1, scores1)\n",
        "axs[0].set_ylabel('Score')\n",
        "axs[0].set_title('Emotion Scores')\n",
        "\n",
        "# Plot the second graph on the right subplot\n",
        "axs[1].bar(categories2, scores2)\n",
        "axs[1].set_ylabel('Count')\n",
        "axs[1].set_title('Raw Counts')\n",
        "\n",
        "# Rotate x-axis labels on both subplots\n",
        "for ax in axs:\n",
        "    plt.sca(ax)\n",
        "    plt.xticks(rotation=90)\n",
        "\n",
        "# Adjust space between subplots\n",
        "plt.subplots_adjust(wspace=0.4)\n",
        "\n",
        "# Show the plot\n",
        "plt.show()"
      ],
      "metadata": {
        "id": "MnbAtq35D485",
        "colab": {
          "base_uri": "https://localhost:8080/",
          "height": 536
        },
        "outputId": "62403212-6132-4115-8173-b49a6c00464d"
      },
      "execution_count": null,
      "outputs": [
        {
          "output_type": "display_data",
          "data": {
            "text/plain": [
              "<Figure size 1000x500 with 2 Axes>"
            ],
            "image/png": "[encoded data removed]"
          },
          "metadata": {}
        }
      ]
    },
    {
      "cell_type": "markdown",
      "source": [
        "# LIWC"
      ],
      "metadata": {
        "id": "amlvfptPDdfp"
      }
    },
    {
      "cell_type": "code",
      "source": [
        "# read the LIWC scores\n",
        "path = '/content/drive/My Drive/Colab Notebooks/data/research/US Covid Tweets/LIWC-22 Results - Combined_US_Covid_Tweets - LIWC Analysis.csv'\n",
        "LIWC_results = pd.read_csv(path)\n",
        "\n",
        "# combine the text column with the LIWC results\n",
        "combined = pd.concat([df['text'], LIWC_results], axis=1)\n",
        "# filter out the categories that we care about\n",
        "filtered = combined.loc[:, ['text', 'Analytic', 'Authentic', 'BigWords', 'ppron']]"
      ],
      "metadata": {
        "id": "7lzwxnxKDeqS"
      },
      "execution_count": null,
      "outputs": []
    },
    {
      "cell_type": "code",
      "source": [
        "analytic_mean = filtered['Analytic'].mean()\n",
        "analytic_median = filtered['Analytic'].median()\n",
        "authentic_mean = filtered['Authentic'].mean()\n",
        "authentic_median = filtered['Authentic'].median()\n",
        "bigwords_mean = filtered['BigWords'].mean()\n",
        "bigwords_median = filtered['BigWords'].median()\n",
        "ppron_mean = filtered['ppron'].mean()\n",
        "ppron_median = filtered['ppron'].median()\n",
        "\n",
        "print(\"analytic_mean: \", analytic_mean)\n",
        "print(\"analytic_median: \", analytic_median)\n",
        "print(\"authentic_mean: \", authentic_mean)\n",
        "print(\"authentic_median: \", authentic_median)\n",
        "print(\"bigwords_mean: \", bigwords_mean)\n",
        "print(\"bigwords_median: \", bigwords_median)\n",
        "print(\"ppron_mean: \", ppron_mean)\n",
        "print(\"ppron_median: \", ppron_median)"
      ],
      "metadata": {
        "id": "jrnJmLN0OySF",
        "colab": {
          "base_uri": "https://localhost:8080/"
        },
        "outputId": "f11e0c40-7d95-45ae-c04b-dee5dd01c603"
      },
      "execution_count": null,
      "outputs": [
        {
          "output_type": "stream",
          "name": "stdout",
          "text": [
            "analytic_mean:  70.77597538400688\n",
            "analytic_median:  83.52\n",
            "authentic_mean:  25.408876814556002\n",
            "authentic_median:  10.18\n",
            "bigwords_mean:  24.384139626870585\n",
            "bigwords_median:  23.53\n",
            "ppron_mean:  4.483379128485727\n",
            "ppron_median:  3.23\n"
          ]
        }
      ]
    },
    {
      "cell_type": "markdown",
      "source": [
        "# Plotting LIWC values"
      ],
      "metadata": {
        "id": "F3tJV76tQimq"
      }
    },
    {
      "cell_type": "code",
      "source": [
        "import matplotlib.pyplot as plt\n",
        "import numpy as np\n",
        "\n",
        "# Create a list of means and medians for each column\n",
        "means = [analytic_mean, authentic_mean, bigwords_mean, ppron_mean]\n",
        "medians = [analytic_median, authentic_median, bigwords_median, ppron_median]\n",
        "# Set the labels for the x-axis\n",
        "labels = ['Analytic', 'Authentic', 'BigWords', 'ppron']\n",
        "# Set the positions of the bars on the x-axis\n",
        "x = np.arange(len(labels))\n",
        "# Set the width of the bars\n",
        "width = 0.35\n",
        "# Create the figure and axis objects\n",
        "fig, ax = plt.subplots()\n",
        "# Add the means bars\n",
        "rects1 = ax.bar(x - width/2, means, width, label='Mean')\n",
        "# Add the medians bars\n",
        "rects2 = ax.bar(x + width/2, medians, width, label='Median')\n",
        "\n",
        "# Add labels, title, and legend\n",
        "ax.set_xlabel('Columns')\n",
        "ax.set_ylabel('Values')\n",
        "ax.set_title('Means and Medians for Each Column')\n",
        "ax.set_xticks(x)\n",
        "ax.set_xticklabels(labels)\n",
        "ax.legend()\n",
        "\n",
        "# Display the chart\n",
        "plt.show()"
      ],
      "metadata": {
        "id": "PKmFUwHtQGcp",
        "colab": {
          "base_uri": "https://localhost:8080/",
          "height": 472
        },
        "outputId": "8436fef0-2188-4a68-d9c0-c557ab2e2650"
      },
      "execution_count": null,
      "outputs": [
        {
          "output_type": "display_data",
          "data": {
            "text/plain": [
              "<Figure size 640x480 with 1 Axes>"
            ],
            "image/png": "[encoded data removed]"
          },
          "metadata": {}
        }
      ]
    },
    {
      "cell_type": "code",
      "source": [
        "q1 = filtered['Analytic'].quantile(0.25)\n",
        "q3 = filtered['Analytic'].quantile(0.75)\n",
        "\n",
        "print(\"Lower quartile:\", q1)\n",
        "print(\"Upper quartile:\", q3)"
      ],
      "metadata": {
        "colab": {
          "base_uri": "https://localhost:8080/"
        },
        "id": "x6rKH14WcG3H",
        "outputId": "e654718f-548c-4c73-b610-8fca4ad5dc8e"
      },
      "execution_count": null,
      "outputs": [
        {
          "output_type": "stream",
          "name": "stdout",
          "text": [
            "Lower quartile: 52.34\n",
            "Upper quartile: 94.5\n"
          ]
        }
      ]
    },
    {
      "cell_type": "code",
      "source": [
        "import seaborn as sns\n",
        "analytic_score = filtered['Analytic']\n",
        "sns.distplot(analytic_score, kde_kws={'linewidth': 3})"
      ],
      "metadata": {
        "colab": {
          "base_uri": "https://localhost:8080/",
          "height": 657
        },
        "id": "nUVYPqHnc0jK",
        "outputId": "08554809-e238-4b25-906b-ce4375b8ff17"
      },
      "execution_count": null,
      "outputs": [
        {
          "output_type": "stream",
          "name": "stderr",
          "text": [
            "<ipython-input-11-b970118b5bd6>:3: UserWarning: \n",
            "\n",
            "`distplot` is a deprecated function and will be removed in seaborn v0.14.0.\n",
            "\n",
            "Please adapt your code to use either `displot` (a figure-level function with\n",
            "similar flexibility) or `histplot` (an axes-level function for histograms).\n",
            "\n",
            "For a guide to updating your code to use the new functions, please see\n",
            "https://gist.github.com/mwaskom/de44147ed2974457ad6372750bbe5751\n",
            "\n",
            "  sns.distplot(analytic_score, kde_kws={'linewidth': 3})\n"
          ]
        },
        {
          "output_type": "execute_result",
          "data": {
            "text/plain": [
              "<Axes: xlabel='Analytic', ylabel='Density'>"
            ]
          },
          "metadata": {},
          "execution_count": 11
        },
        {
          "output_type": "display_data",
          "data": {
            "text/plain": [
              "<Figure size 640x480 with 1 Axes>"
            ],
            "image/png": "[encoded data removed]"
          },
          "metadata": {}
        }
      ]
    },
    {
      "cell_type": "markdown",
      "source": [
        "#Retrieving some class 1 tweets"
      ],
      "metadata": {
        "id": "K5fPG9GgmzwT"
      }
    },
    {
      "cell_type": "code",
      "source": [
        "# calculate the thresholds for each important category\n",
        "score_columns = ['Analytic', 'Authentic', 'BigWords']\n",
        "thresholds = {}\n",
        "for col in score_columns:\n",
        "    col_stats = filtered[col].dropna().describe(percentiles=[0.05])\n",
        "    threshold = col_stats['5%']\n",
        "    thresholds[col] = threshold\n",
        "print(thresholds)\n",
        "\n",
        "# retrieve tweets that fall within the thresholds\n",
        "class1_tweets = filtered[(filtered[score_columns[0]] <= thresholds[score_columns[0]]) &\n",
        "                         (filtered[score_columns[1]] <= thresholds[score_columns[1]]) &\n",
        "                         (filtered[score_columns[2]] <= thresholds[score_columns[2]])]\n",
        "print(class1_tweets)"
      ],
      "metadata": {
        "colab": {
          "base_uri": "https://localhost:8080/"
        },
        "id": "r4kxImrBoslG",
        "outputId": "5802a8a4-b413-4198-f1f2-f759c9a08bbd"
      },
      "execution_count": null,
      "outputs": [
        {
          "output_type": "stream",
          "name": "stdout",
          "text": [
            "{'Analytic': 7.78, 'Authentic': 1.0, 'BigWords': 9.52}\n",
            "                                                     text  Analytic  \\\n",
            "1625    Good thing I got my dog his shots so he’s prot...      3.80   \n",
            "3905    What is her name let's get her viral https://t...      1.30   \n",
            "4182    It’s like he knows he’s daddy is sad 😢 https:/...      4.85   \n",
            "4577                            this corona virus no joke      3.80   \n",
            "7501    Let’s hope it doesn’t get here 😷 https://t.co/...      1.00   \n",
            "...                                                   ...       ...   \n",
            "755429  Everyone back off. It’s not bc he hasn’t read ...      1.00   \n",
            "755987  @Kno Yes us can!!! Can I get a uuuuuuuhhhhhhh ...      2.87   \n",
            "756775                                   Nas is that dude      1.00   \n",
            "757944  I really just want to have a daughter so I can...      1.00   \n",
            "758340                            What would kobe do? 🐍 🧠      1.00   \n",
            "\n",
            "        Authentic  BigWords  ppron  \n",
            "1625          1.0      6.67  26.67  \n",
            "3905          1.0      7.69  23.08  \n",
            "4182          1.0      7.69  15.38  \n",
            "4577          1.0      0.00   0.00  \n",
            "7501          1.0      9.09   9.09  \n",
            "...           ...       ...    ...  \n",
            "755429        1.0      9.52   9.52  \n",
            "755987        1.0      8.33  25.00  \n",
            "756775        1.0      0.00   0.00  \n",
            "757944        1.0      7.69  23.08  \n",
            "758340        1.0      0.00   0.00  \n",
            "\n",
            "[748 rows x 5 columns]\n"
          ]
        }
      ]
    },
    {
      "cell_type": "code",
      "source": [
        "# randomly retrieve 20 of the tweets\n",
        "class1_tweets_sample = class1_tweets.sample(n=20)\n",
        "print(class1_tweets_sample['text'])"
      ],
      "metadata": {
        "colab": {
          "base_uri": "https://localhost:8080/"
        },
        "id": "jvuKIvlXsHnr",
        "outputId": "c2dcd05e-32a0-4ca3-ff2c-53954ea12b13"
      },
      "execution_count": null,
      "outputs": [
        {
          "output_type": "stream",
          "name": "stdout",
          "text": [
            "379181    And who’s fault is that? Huh?? https://t.co/Ma...\n",
            "317411    Bless his heart! 🥺 Woody you're just too cute ...\n",
            "260047    So masks work is what you are saying. https://...\n",
            "662900    Doubt he really caught COVID. Just saying it s...\n",
            "192033    @kneerecon What would Trump even say? \"He knew...\n",
            "620062    @DSmithScenes What year is it? Also is that gu...\n",
            "639365    This man said “she’s one of the dumbest people...\n",
            "95095     Anyone know why they would do this?  https://t...\n",
            "29052     How could I forget this would happen https://t...\n",
            "38142     It’s the least I could do. https://t.co/GBgVee...\n",
            "133220    Are you SURE?!? Have you TESTED this?!? ;-)\\n\\...\n",
            "664051    As much as I want covid 19 to win, Mike pence ...\n",
            "462049    @tubboinabox i don’t think he’s gonna. he said...\n",
            "255154    let’s see what this 2nd dose of covid is all a...\n",
            "206319    @JoeBiden If we can defeat Donald Trump, we ca...\n",
            "651669                     2020 is just really ghetto 🤦🏾‍♂️\n",
            "44148     Where is Nancy Pelosi when we need her?\\n\\nhtt...\n",
            "670999    He better be alone... he has germs https://t.c...\n",
            "38874     It’s the least I could do. https://t.co/GBgVee...\n",
            "605174                               LETS JUST SAY.... 2020\n",
            "Name: text, dtype: object\n"
          ]
        }
      ]
    },
    {
      "cell_type": "code",
      "source": [
        "#class1_tweets_sample.to_csv('/content/drive/MyDrive/Colab Notebooks/data/research/class1_tweets_sample.csv', index=False)"
      ],
      "metadata": {
        "id": "wRHmGYTRsS9F"
      },
      "execution_count": null,
      "outputs": []
    }
  ]
}