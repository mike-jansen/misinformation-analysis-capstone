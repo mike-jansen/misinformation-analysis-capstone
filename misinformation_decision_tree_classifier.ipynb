{
  "nbformat": 4,
  "nbformat_minor": 0,
  "metadata": {
    "colab": {
      "provenance": [],
      "authorship_tag": "ABX9TyOGGxXqg3K6Fh037E4jNcJL",
      "include_colab_link": true
    },
    "kernelspec": {
      "name": "python3",
      "display_name": "Python 3"
    },
    "language_info": {
      "name": "python"
    }
  },
  "cells": [
    {
      "cell_type": "markdown",
      "metadata": {
        "id": "view-in-github",
        "colab_type": "text"
      },
      "source": [
        "<a href=\"https://colab.research.google.com/github/mike-jansen/misinformation-analysis-capstone/blob/main/misinformation_decision_tree_classifier.ipynb\" target=\"_parent\"><img src=\"https://colab.research.google.com/assets/colab-badge.svg\" alt=\"Open In Colab\"/></a>"
      ]
    },
    {
      "cell_type": "code",
      "execution_count": 1,
      "metadata": {
        "colab": {
          "base_uri": "https://localhost:8080/"
        },
        "id": "BWgatggOfWAF",
        "outputId": "12ed71ae-9fa5-4f59-befd-a9d849b16acc"
      },
      "outputs": [
        {
          "output_type": "stream",
          "name": "stdout",
          "text": [
            "Mounted at /content/drive/\n"
          ]
        }
      ],
      "source": [
        "from google.colab import drive\n",
        "drive.mount('/content/drive/')\n",
        "import pandas as pd\n",
        "import numpy as np"
      ]
    },
    {
      "cell_type": "markdown",
      "source": [
        "# Preprocessing"
      ],
      "metadata": {
        "id": "PRhaJlXS1VBD"
      }
    },
    {
      "cell_type": "code",
      "source": [
        "# loading data\n",
        "path = '/content/drive/MyDrive/output/'\n",
        "liar_false = pd.read_csv(path + 'liar_false.csv')\n",
        "liar_true = pd.read_csv(path + 'liar_true.csv')\n",
        "nela_false = pd.read_csv(path + 'nela_false.csv')\n",
        "nela_true = pd.read_csv(path + 'nela_true.csv')"
      ],
      "metadata": {
        "id": "IcXcMzLR1Wh5"
      },
      "execution_count": 2,
      "outputs": []
    },
    {
      "cell_type": "code",
      "source": [
        "nela_true.rename(columns={'content': 'text'}, inplace=True)\n",
        "nela_true.drop('title', axis=1, inplace=True)\n",
        "nela_true.insert(1, 'label', True)\n",
        "\n",
        "nela_false.rename(columns={'content': 'text'}, inplace=True)\n",
        "nela_false.drop('title', axis=1, inplace=True)\n",
        "nela_false.insert(1, 'label', False)"
      ],
      "metadata": {
        "id": "nJ0XOrW62pbc"
      },
      "execution_count": 3,
      "outputs": []
    },
    {
      "cell_type": "code",
      "source": [
        "#df_combined = pd.concat([liar_true, liar_false, nela_true, nela_false])\n",
        "\n",
        "nela_combined = pd.concat([nela_true, nela_false])\n",
        "liar_combined = pd.concat([liar_true, liar_false])"
      ],
      "metadata": {
        "id": "vyJkAiFI4gA9"
      },
      "execution_count": 4,
      "outputs": []
    },
    {
      "cell_type": "markdown",
      "source": [
        "# NELA Training"
      ],
      "metadata": {
        "id": "IIjJBknV5X3T"
      }
    },
    {
      "cell_type": "code",
      "source": [
        "# define features and target\n",
        "X_nela = nela_combined[['Analytic', 'Authentic', 'BigWords', 'ppron']]  # update this to include new features\n",
        "y_nela = nela_combined['label']"
      ],
      "metadata": {
        "id": "3OUc2Xvk5Ylb"
      },
      "execution_count": 5,
      "outputs": []
    },
    {
      "cell_type": "code",
      "source": [
        "from sklearn.model_selection import train_test_split\n",
        "from sklearn.tree import DecisionTreeClassifier\n",
        "\n",
        "# split the data\n",
        "X_train_nela, X_test_nela, y_train_nela, y_test_nela = train_test_split(X_nela, y_nela, test_size=0.2, random_state=42)\n",
        "\n",
        "# create a decision tree\n",
        "clf = DecisionTreeClassifier(max_depth=10)\n",
        "\n",
        "# train the decision tree\n",
        "clf.fit(X_train_nela, y_train_nela)\n",
        "\n",
        "# make a prediction\n",
        "y_pred_nela = clf.predict(X_test_nela)"
      ],
      "metadata": {
        "id": "KVHX_E9d5f11"
      },
      "execution_count": 6,
      "outputs": []
    },
    {
      "cell_type": "code",
      "source": [
        "from sklearn.metrics import accuracy_score\n",
        "\n",
        "accuracy_nela = accuracy_score(y_test_nela, y_pred_nela)\n",
        "print(f\"Accuracy: {accuracy_nela}\")"
      ],
      "metadata": {
        "colab": {
          "base_uri": "https://localhost:8080/"
        },
        "id": "ZyZmadtT5mB1",
        "outputId": "abde8f85-c7b9-43f5-c29f-391cc27ea347"
      },
      "execution_count": 7,
      "outputs": [
        {
          "output_type": "stream",
          "name": "stdout",
          "text": [
            "Accuracy: 0.57175\n"
          ]
        }
      ]
    },
    {
      "cell_type": "code",
      "source": [
        "from sklearn.metrics import roc_curve, auc\n",
        "import matplotlib.pyplot as plt\n",
        "\n",
        "y_pred_prob_nela = clf.predict_proba(X_test_nela)[:, 1]\n",
        "\n",
        "fpr, tpr, thresholds = roc_curve(y_test_nela, y_pred_prob_nela)\n",
        "\n",
        "roc_auc = auc(fpr, tpr)\n",
        "\n",
        "plt.figure()\n",
        "plt.plot(fpr, tpr, label='ROC curve (area = %0.2f)' % roc_auc)\n",
        "plt.plot([0, 1], [0, 1], 'k--')  # Diagonal line for random classifier\n",
        "plt.xlim([0.0, 1.0])\n",
        "plt.ylim([0.0, 1.05])\n",
        "plt.xlabel('False Positive Rate')\n",
        "plt.ylabel('True Positive Rate')\n",
        "plt.title('NELA ROC')\n",
        "plt.legend(loc=\"lower right\")\n",
        "plt.show()\n"
      ],
      "metadata": {
        "colab": {
          "base_uri": "https://localhost:8080/",
          "height": 472
        },
        "id": "4AadRGKpqcu_",
        "outputId": "372e8e47-2c31-4940-e302-502e896d9ee4"
      },
      "execution_count": 8,
      "outputs": [
        {
          "output_type": "display_data",
          "data": {
            "text/plain": [
              "<Figure size 640x480 with 1 Axes>"
            ],
            "image/png": "[encoded data removed]"
          },
          "metadata": {}
        }
      ]
    },
    {
      "cell_type": "markdown",
      "source": [
        "# LIAR Training"
      ],
      "metadata": {
        "id": "m3NgZkest1ye"
      }
    },
    {
      "cell_type": "code",
      "source": [
        "# define features and target\n",
        "X_liar = liar_combined[['Analytic', 'Authentic', 'BigWords', 'ppron']]\n",
        "y_liar = liar_combined['label']"
      ],
      "metadata": {
        "id": "TP2zA94dt1yf"
      },
      "execution_count": 9,
      "outputs": []
    },
    {
      "cell_type": "code",
      "source": [
        "from sklearn.model_selection import train_test_split\n",
        "from sklearn.tree import DecisionTreeClassifier\n",
        "\n",
        "# split the data\n",
        "X_train_liar, X_test_liar, y_train_liar, y_test_liar = train_test_split(X_liar, y_liar, test_size=0.2, random_state=42)\n",
        "\n",
        "# create a decision tree\n",
        "clf = DecisionTreeClassifier(max_depth=10)\n",
        "\n",
        "# train the decision tree\n",
        "clf.fit(X_train_liar, y_train_liar)\n",
        "\n",
        "# make a prediction\n",
        "y_pred_liar = clf.predict(X_test_liar)"
      ],
      "metadata": {
        "id": "m8T4mwlBt1yg"
      },
      "execution_count": 10,
      "outputs": []
    },
    {
      "cell_type": "code",
      "source": [
        "from sklearn.metrics import accuracy_score\n",
        "\n",
        "accuracy_liar = accuracy_score(y_test_liar, y_pred_liar)\n",
        "print(f\"Accuracy: {accuracy_liar}\")"
      ],
      "metadata": {
        "colab": {
          "base_uri": "https://localhost:8080/"
        },
        "outputId": "36a74998-4698-4066-8f99-e4007fb7f7ba",
        "id": "MFPpWA-Jt1yi"
      },
      "execution_count": 11,
      "outputs": [
        {
          "output_type": "stream",
          "name": "stdout",
          "text": [
            "Accuracy: 1.0\n"
          ]
        }
      ]
    },
    {
      "cell_type": "code",
      "source": [
        "from sklearn.metrics import roc_curve, auc\n",
        "import matplotlib.pyplot as plt\n",
        "\n",
        "y_pred_prob_liar = clf.predict_proba(X_test_liar)[:, 1]\n",
        "\n",
        "fpr, tpr, thresholds = roc_curve(y_test_liar, y_pred_prob_liar)\n",
        "\n",
        "roc_auc = auc(fpr, tpr)\n",
        "\n",
        "plt.figure()\n",
        "plt.plot(fpr, tpr, label='ROC curve (area = %0.2f)' % roc_auc)\n",
        "plt.plot([0, 1], [0, 1], 'k--')  # Diagonal line for random classifier\n",
        "plt.xlim([0.0, 1.0])\n",
        "plt.ylim([0.0, 1.05])\n",
        "plt.xlabel('False Positive Rate')\n",
        "plt.ylabel('True Positive Rate')\n",
        "plt.title('LIAR ROC')\n",
        "plt.legend(loc=\"lower right\")\n",
        "plt.show()\n"
      ],
      "metadata": {
        "colab": {
          "base_uri": "https://localhost:8080/",
          "height": 235
        },
        "outputId": "e0bb7406-e9c0-45a5-f3ab-609cf305820f",
        "id": "gsCRrzfit1yj"
      },
      "execution_count": 12,
      "outputs": [
        {
          "output_type": "error",
          "ename": "IndexError",
          "evalue": "ignored",
          "traceback": [
            "\u001b[0;31m---------------------------------------------------------------------------\u001b[0m",
            "\u001b[0;31mIndexError\u001b[0m                                Traceback (most recent call last)",
            "\u001b[0;32m<ipython-input-12-2dca53d6d667>\u001b[0m in \u001b[0;36m<cell line: 4>\u001b[0;34m()\u001b[0m\n\u001b[1;32m      2\u001b[0m \u001b[0;32mimport\u001b[0m \u001b[0mmatplotlib\u001b[0m\u001b[0;34m.\u001b[0m\u001b[0mpyplot\u001b[0m \u001b[0;32mas\u001b[0m \u001b[0mplt\u001b[0m\u001b[0;34m\u001b[0m\u001b[0;34m\u001b[0m\u001b[0m\n\u001b[1;32m      3\u001b[0m \u001b[0;34m\u001b[0m\u001b[0m\n\u001b[0;32m----> 4\u001b[0;31m \u001b[0my_pred_prob_liar\u001b[0m \u001b[0;34m=\u001b[0m \u001b[0mclf\u001b[0m\u001b[0;34m.\u001b[0m\u001b[0mpredict_proba\u001b[0m\u001b[0;34m(\u001b[0m\u001b[0mX_test_liar\u001b[0m\u001b[0;34m)\u001b[0m\u001b[0;34m[\u001b[0m\u001b[0;34m:\u001b[0m\u001b[0;34m,\u001b[0m \u001b[0;36m1\u001b[0m\u001b[0;34m]\u001b[0m\u001b[0;34m\u001b[0m\u001b[0;34m\u001b[0m\u001b[0m\n\u001b[0m\u001b[1;32m      5\u001b[0m \u001b[0;34m\u001b[0m\u001b[0m\n\u001b[1;32m      6\u001b[0m \u001b[0mfpr\u001b[0m\u001b[0;34m,\u001b[0m \u001b[0mtpr\u001b[0m\u001b[0;34m,\u001b[0m \u001b[0mthresholds\u001b[0m \u001b[0;34m=\u001b[0m \u001b[0mroc_curve\u001b[0m\u001b[0;34m(\u001b[0m\u001b[0my_test_liar\u001b[0m\u001b[0;34m,\u001b[0m \u001b[0my_pred_prob_liar\u001b[0m\u001b[0;34m)\u001b[0m\u001b[0;34m\u001b[0m\u001b[0;34m\u001b[0m\u001b[0m\n",
            "\u001b[0;31mIndexError\u001b[0m: index 1 is out of bounds for axis 1 with size 1"
          ]
        }
      ]
    }
  ]
}