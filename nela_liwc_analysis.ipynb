{
  "nbformat": 4,
  "nbformat_minor": 0,
  "metadata": {
    "colab": {
      "provenance": [],
      "authorship_tag": "ABX9TyN+E/mF75JTy/WWk+BbvIod",
      "include_colab_link": true
    },
    "kernelspec": {
      "name": "python3",
      "display_name": "Python 3"
    },
    "language_info": {
      "name": "python"
    }
  },
  "cells": [
    {
      "cell_type": "markdown",
      "metadata": {
        "id": "view-in-github",
        "colab_type": "text"
      },
      "source": [
        "<a href=\"https://colab.research.google.com/github/mike-jansen/misinformation-analysis-capstone/blob/main/nela_liwc_analysis.ipynb\" target=\"_parent\"><img src=\"https://colab.research.google.com/assets/colab-badge.svg\" alt=\"Open In Colab\"/></a>"
      ]
    },
    {
      "cell_type": "code",
      "source": [
        "from google.colab import drive\n",
        "drive.mount('/content/drive/')\n",
        "import pandas as pd\n",
        "import numpy as np"
      ],
      "metadata": {
        "colab": {
          "base_uri": "https://localhost:8080/"
        },
        "id": "VQmxJ5blx0NT",
        "outputId": "1e8226e3-85d1-4ee3-979e-1a5958fc506a"
      },
      "execution_count": null,
      "outputs": [
        {
          "output_type": "stream",
          "name": "stdout",
          "text": [
            "Drive already mounted at /content/drive/; to attempt to forcibly remount, call drive.mount(\"/content/drive/\", force_remount=True).\n"
          ]
        }
      ]
    },
    {
      "cell_type": "markdown",
      "source": [
        "#Preprocessing\n",
        "This part unzips the files, loads them, converts to CSV, and then saves them so they can be used in LIWC. Only need to run this if you don't have 'label_0_data.csv' and 'label_1_data.csv'"
      ],
      "metadata": {
        "id": "qMDHVrg5L39g"
      }
    },
    {
      "cell_type": "code",
      "execution_count": null,
      "metadata": {
        "id": "TOlatKspxqd0"
      },
      "outputs": [],
      "source": [
        "# path to the compressed file in Google Drive\n",
        "path = '/content/drive/MyDrive/Colab Notebooks/data/research/NELA-GT Dataset/json.tar.xz'\n",
        "file_path = '/content/drive/MyDrive/Colab Notebooks/data/research/liar_dataset/LIWC-22 Results - liar - LIWC Analysis.csv'\n",
        "\n",
        "# unzip the file\n",
        "!tar -xf '/content/drive/MyDrive/Colab Notebooks/data/research/NELA-GT Dataset/json.tar.xz'\n"
      ]
    },
    {
      "cell_type": "code",
      "source": [
        "import os\n",
        "import json\n",
        "import pandas as pd\n",
        "\n",
        "json_dir = '/content/json/nela-gt-2021/newsdata'\n",
        "labels_file = '/content/drive/MyDrive/Colab Notebooks/data/research/NELA-GT Dataset/labels.csv'\n",
        "\n",
        "# Load labels file into a dataframe\n",
        "labels_df = pd.read_csv(labels_file)\n",
        "\n",
        "# Create two empty dataframes for the matching JSON data\n",
        "df_label_0 = pd.DataFrame()\n",
        "df_label_1 = pd.DataFrame()\n",
        "\n",
        "# Iterate over the JSON files\n",
        "for filename in os.listdir(json_dir):\n",
        "    if filename.endswith('.json'):\n",
        "        with open(os.path.join(json_dir, filename)) as f:\n",
        "            data = json.load(f)\n",
        "            df = pd.json_normalize(data)\n",
        "\n",
        "            # Get the source from the first row of the dataframe\n",
        "            source = df['source'][0]\n",
        "\n",
        "            # Check if the source is in labels_df with a label of 0 or 1\n",
        "            if source in labels_df.loc[labels_df['label'] == 0, 'source'].values:\n",
        "                df_label_0 = pd.concat([df_label_0, df])\n",
        "                print(f\"Processed {filename} for label 0 and source {source}\")\n",
        "            if source in labels_df.loc[labels_df['label'] == 1, 'source'].values:\n",
        "                df_label_1 = pd.concat([df_label_1, df])\n",
        "                print(f\"Processed {filename} for label 1 and source {source}\")\n",
        "\n",
        "# Reset the index of the dataframes\n",
        "df_label_0 = df_label_0.reset_index(drop=True)\n",
        "df_label_1 = df_label_1.reset_index(drop=True)\n",
        "\n",
        "# Save the dataframes to CSV files\n",
        "df_label_0.to_csv('label_0_data.csv', index=False)\n",
        "df_label_1.to_csv('label_1_data.csv', index=False)\n",
        "\n",
        "# Print the number of rows in each dataframe\n",
        "print(f\"Number of rows in df_label_0: {len(df_label_0)}\")\n",
        "print(f\"Number of rows in df_label_1: {len(df_label_1)}\")\n"
      ],
      "metadata": {
        "colab": {
          "base_uri": "https://localhost:8080/"
        },
        "id": "V_8Z591gxtfa",
        "outputId": "352dba8e-bacc-4a99-bdcd-7b63f86dd2f7"
      },
      "execution_count": null,
      "outputs": [
        {
          "output_type": "stream",
          "name": "stdout",
          "text": [
            "Processed skynewsus.json for label 0 and source skynewsus\n",
            "Processed jesusdaily.json for label 1 and source jesusdaily\n",
            "Processed theamericanconservative.json for label 0 and source theamericanconservative\n",
            "Processed sustainablepulse.json for label 1 and source sustainablepulse\n",
            "Processed globalresearch.json for label 1 and source globalresearch\n",
            "Processed awarenessact.json for label 1 and source awarenessact\n",
            "Processed nowtheendbegins.json for label 1 and source nowtheendbegins\n",
            "Processed evolutionnewsandviews.json for label 1 and source evolutionnewsandviews\n",
            "Processed spiegel.json for label 0 and source spiegel\n",
            "Processed washingtonmonthly.json for label 0 and source washingtonmonthly\n",
            "Processed cnbc.json for label 0 and source cnbc\n",
            "Processed democracynow.json for label 0 and source democracynow\n",
            "Processed theconservativetreehouse.json for label 1 and source theconservativetreehouse\n",
            "Processed thefiscaltimes.json for label 0 and source thefiscaltimes\n",
            "Processed needtoknow.json for label 1 and source needtoknow\n",
            "Processed infowars.json for label 1 and source infowars\n",
            "Processed wingsoverscotland.json for label 0 and source wingsoverscotland\n",
            "Processed healthnutnews.json for label 1 and source healthnutnews\n",
            "Processed fusion.json for label 0 and source fusion\n",
            "Processed vigilantcitizen.json for label 1 and source vigilantcitizen\n",
            "Processed courthousenews.json for label 0 and source courthousenews\n",
            "Processed hotair.json for label 0 and source hotair\n",
            "Processed activistpost.json for label 1 and source activistpost\n",
            "Processed healthsciencesinstitute.json for label 1 and source healthsciencesinstitute\n",
            "Processed 911truthorg.json for label 1 and source 911truthorg\n",
            "Processed politico.json for label 0 and source politico\n",
            "Processed nationalfile.json for label 1 and source nationalfile\n",
            "Processed dailymail.json for label 1 and source dailymail\n",
            "Processed sputnik.json for label 1 and source sputnik\n",
            "Processed vox.json for label 0 and source vox\n",
            "Processed scientificamerican.json for label 0 and source scientificamerican\n",
            "Processed channel4uk.json for label 0 and source channel4uk\n",
            "Processed lifespa.json for label 1 and source lifespa\n",
            "Processed dailystormer.json for label 1 and source dailystormer\n",
            "Processed newspunch.json for label 1 and source newspunch\n",
            "Processed washingtonpost.json for label 0 and source washingtonpost\n",
            "Processed ageofautism.json for label 1 and source ageofautism\n",
            "Processed skeptiko.json for label 1 and source skeptiko\n",
            "Processed weareanonymous.json for label 1 and source weareanonymous\n",
            "Processed newrepublic.json for label 0 and source newrepublic\n",
            "Processed curiousmindmagazine.json for label 1 and source curiousmindmagazine\n",
            "Processed thescientist.json for label 0 and source thescientist\n",
            "Processed dailysignal.json for label 0 and source dailysignal\n",
            "Processed fortune.json for label 0 and source fortune\n",
            "Processed clashdaily.json for label 1 and source clashdaily\n",
            "Processed thedailyrecord.json for label 0 and source thedailyrecord\n",
            "Processed airwars.json for label 0 and source airwars\n",
            "Processed theintercept.json for label 0 and source theintercept\n",
            "Processed discoveryinstitute.json for label 1 and source discoveryinstitute\n",
            "Processed illuminatiwatcher.json for label 1 and source illuminatiwatcher\n",
            "Processed thedcclothesline.json for label 1 and source thedcclothesline\n",
            "Processed eveningstandard.json for label 0 and source eveningstandard\n",
            "Processed prepareforchange.json for label 1 and source prepareforchange\n",
            "Processed newyorker.json for label 0 and source newyorker\n",
            "Processed nationalobserver.json for label 0 and source nationalobserver\n",
            "Processed mcclatchydc.json for label 0 and source mcclatchydc\n",
            "Processed themindunleashed.json for label 1 and source themindunleashed\n",
            "Processed iowaclimatescienceeducation.json for label 1 and source iowaclimatescienceeducation\n",
            "Processed thenewyorktimes.json for label 0 and source thenewyorktimes\n",
            "Processed theverge.json for label 0 and source theverge\n",
            "Processed freethoughtproject.json for label 1 and source freethoughtproject\n",
            "Processed climatism.json for label 1 and source climatism\n",
            "Processed upi.json for label 0 and source upi\n",
            "Processed bigleaguepolitics.json for label 1 and source bigleaguepolitics\n",
            "Processed collectiveevolution.json for label 1 and source collectiveevolution\n",
            "Processed zerohedge.json for label 1 and source zerohedge\n",
            "Processed returntonow.json for label 1 and source returntonow\n",
            "Processed thepoliticalinsider.json for label 1 and source thepoliticalinsider\n",
            "Processed whatreallyhappened.json for label 1 and source whatreallyhappened\n",
            "Processed prisonplanet.json for label 1 and source prisonplanet\n",
            "Processed infiniteunknown.json for label 1 and source infiniteunknown\n",
            "Processed abcnews.json for label 0 and source abcnews\n",
            "Processed thelibertybeacon.json for label 1 and source thelibertybeacon\n",
            "Processed oyenews.json for label 1 and source oyenews\n",
            "Processed dailyhealthpost.json for label 1 and source dailyhealthpost\n",
            "Processed foreignpolicy.json for label 0 and source foreignpolicy\n",
            "Processed summitnews.json for label 1 and source summitnews\n",
            "Processed australiannationalreview.json for label 1 and source australiannationalreview\n",
            "Processed rt.json for label 1 and source rt\n",
            "Processed greenmedinfo.json for label 1 and source greenmedinfo\n",
            "Processed rightwingwatch.json for label 0 and source rightwingwatch\n",
            "Processed livescience.json for label 0 and source livescience\n",
            "Processed theroot.json for label 0 and source theroot\n",
            "Processed thewakingtimes.json for label 1 and source thewakingtimes\n",
            "Processed prntly.json for label 1 and source prntly\n",
            "Processed geoengineeringwatch.json for label 1 and source geoengineeringwatch\n",
            "Processed davidicke.json for label 1 and source davidicke\n",
            "Processed thinkingmomsrevolution.json for label 1 and source thinkingmomsrevolution\n",
            "Processed familysurvivalheadlines.json for label 1 and source familysurvivalheadlines\n",
            "Processed crikey.json for label 0 and source crikey\n",
            "Processed fellowshipoftheminds.json for label 1 and source fellowshipoftheminds\n",
            "Processed mercola.json for label 1 and source mercola\n",
            "Processed vaxxter.json for label 1 and source vaxxter\n",
            "Processed healingoracle.json for label 1 and source healingoracle\n",
            "Processed realclearpolitics.json for label 0 and source realclearpolitics\n",
            "Processed newsweek.json for label 0 and source newsweek\n",
            "Processed thedailyconspiracy.json for label 1 and source thedailyconspiracy\n",
            "Processed nationalreview.json for label 0 and source nationalreview\n",
            "Processed alternativemediatelevisionamtv.json for label 1 and source alternativemediatelevisionamtv\n",
            "Processed healthyfoodhouse.json for label 1 and source healthyfoodhouse\n",
            "Processed realjewnews.json for label 1 and source realjewnews\n",
            "Processed talkingpointsmemo.json for label 0 and source talkingpointsmemo\n",
            "Processed latimes.json for label 0 and source latimes\n",
            "Processed birminghammail.json for label 0 and source birminghammail\n",
            "Processed dailyheraldchicago.json for label 0 and source dailyheraldchicago\n",
            "Processed usahitman.json for label 1 and source usahitman\n",
            "Processed viralnewsnetwork.json for label 1 and source viralnewsnetwork\n",
            "Processed healthimpactnews.json for label 1 and source healthimpactnews\n",
            "Processed thenation.json for label 0 and source thenation\n",
            "Processed trunews.json for label 1 and source trunews\n",
            "Processed southfront.json for label 1 and source southfront\n",
            "Processed cosmicintelligenceagency.json for label 1 and source cosmicintelligenceagency\n",
            "Processed wattsupwiththat.json for label 1 and source wattsupwiththat\n",
            "Processed ipolitics.json for label 0 and source ipolitics\n",
            "Processed theatlantic.json for label 0 and source theatlantic\n",
            "Processed yahoonews.json for label 0 and source yahoonews\n",
            "Processed slate.json for label 0 and source slate\n",
            "Processed x22report.json for label 1 and source x22report\n",
            "Processed escapeallthesethings.json for label 1 and source escapeallthesethings\n",
            "Processed npr.json for label 0 and source npr\n",
            "Processed conspiracydailyupdate.json for label 1 and source conspiracydailyupdate\n",
            "Processed endtimeheadlines.json for label 1 and source endtimeheadlines\n",
            "Processed fivethirtyeight.json for label 0 and source fivethirtyeight\n",
            "Processed breaking911.json for label 1 and source breaking911\n",
            "Processed vdare.json for label 1 and source vdare\n",
            "Processed theduran.json for label 1 and source theduran\n",
            "Processed rapturenewsnetwork.json for label 1 and source rapturenewsnetwork\n",
            "Processed crooksandliars.json for label 0 and source crooksandliars\n",
            "Processed worldtruthtv.json for label 1 and source worldtruthtv\n",
            "Processed stillnessinthestorm.json for label 1 and source stillnessinthestorm\n",
            "Processed bbc.json for label 0 and source bbc\n",
            "Processed usatoday.json for label 0 and source usatoday\n",
            "Processed newsinsideoutcom.json for label 1 and source newsinsideoutcom\n",
            "Processed getholistichealth.json for label 1 and source getholistichealth\n",
            "Processed humansarefree.json for label 1 and source humansarefree\n",
            "Processed dailybeast.json for label 0 and source dailybeast\n",
            "Processed cbsnews.json for label 0 and source cbsnews\n",
            "Processed thoughtcrimeradio.json for label 1 and source thoughtcrimeradio\n",
            "Processed thegatewaypundit.json for label 1 and source thegatewaypundit\n",
            "Processed motherjones.json for label 0 and source motherjones\n",
            "Processed rollcall.json for label 0 and source rollcall\n",
            "Processed ihealthtube.json for label 1 and source ihealthtube\n",
            "Processed thecorbettreport.json for label 1 and source thecorbettreport\n",
            "Processed truepundit.json for label 1 and source truepundit\n",
            "Processed politicalwire.json for label 0 and source politicalwire\n",
            "Processed theweekuk.json for label 0 and source theweekuk\n",
            "Processed occupydemocrats.json for label 1 and source occupydemocrats\n",
            "Processed intellihub.json for label 1 and source intellihub\n",
            "Processed businessinsider.json for label 0 and source businessinsider\n",
            "Processed chicagotribune.json for label 0 and source chicagotribune\n",
            "Processed truththeory.json for label 0 and source truththeory\n",
            "Processed larouchepac.json for label 1 and source larouchepac\n",
            "Processed thebulwark.json for label 0 and source thebulwark\n",
            "Processed themoscowtimes.json for label 0 and source themoscowtimes\n",
            "Processed thetruthaboutcancer.json for label 1 and source thetruthaboutcancer\n",
            "Processed veteranstoday.json for label 1 and source veteranstoday\n",
            "Processed themillenniumreport.json for label 1 and source themillenniumreport\n",
            "Processed scienceblogs.json for label 0 and source scienceblogs\n",
            "Processed pbs.json for label 0 and source pbs\n",
            "Processed france24.json for label 0 and source france24\n",
            "Processed newswars.json for label 1 and source newswars\n",
            "Processed charlotteobserver.json for label 0 and source charlotteobserver\n",
            "Processed althealthworks.json for label 1 and source althealthworks\n",
            "Processed pinknewsuk.json for label 0 and source pinknewsuk\n",
            "Processed newyorkdailynews.json for label 0 and source newyorkdailynews\n",
            "Processed sgtreport.json for label 1 and source sgtreport\n",
            "Processed foreverconscious.json for label 1 and source foreverconscious\n",
            "Processed thesmokinggun.json for label 0 and source thesmokinggun\n",
            "Processed djhj.json for label 1 and source djhj\n",
            "Processed committeeconstructivetomorrowcfactorg.json for label 1 and source committeeconstructivetomorrowcfactorg\n",
            "Processed shoebat.json for label 1 and source shoebat\n",
            "Processed nationalinterest.json for label 0 and source nationalinterest\n",
            "Processed jesusissavior.json for label 1 and source jesusissavior\n",
            "Processed trueactivist.json for label 1 and source trueactivist\n",
            "Processed thedenverpost.json for label 0 and source thedenverpost\n",
            "Processed healthyholisticliving.json for label 1 and source healthyholisticliving\n",
            "Processed gulagbound.json for label 1 and source gulagbound\n",
            "Processed iceagenow.json for label 1 and source iceagenow\n",
            "Processed theseattletimes.json for label 0 and source theseattletimes\n",
            "Processed theirishtimes.json for label 0 and source theirishtimes\n",
            "Processed notrickszone.json for label 1 and source notrickszone\n",
            "Processed shadowproof.json for label 0 and source shadowproof\n",
            "Number of rows in df_label_0: 519000\n",
            "Number of rows in df_label_1: 288763\n"
          ]
        }
      ]
    },
    {
      "cell_type": "code",
      "source": [
        "print(df_label_0.head)"
      ],
      "metadata": {
        "id": "-s-wmPydxv5u"
      },
      "execution_count": null,
      "outputs": []
    },
    {
      "cell_type": "code",
      "source": [
        "print(df_label_1.head)"
      ],
      "metadata": {
        "id": "HAqmp4_bxw-6"
      },
      "execution_count": null,
      "outputs": []
    },
    {
      "cell_type": "code",
      "source": [
        "# Create a directory named \"output\" in your Google Drive\n",
        "output_dir = '/content/drive/MyDrive/output'\n",
        "if not os.path.exists(output_dir):\n",
        "    os.makedirs(output_dir)\n",
        "\n",
        "# Save the dataframes to CSV files in the \"output\" directory\n",
        "df_label_0.to_csv(os.path.join(output_dir, 'label_0_data.csv'), index=False)\n",
        "df_label_1.to_csv(os.path.join(output_dir, 'label_1_data.csv'), index=False)"
      ],
      "metadata": {
        "id": "4HKQJaXK6r5K"
      },
      "execution_count": null,
      "outputs": []
    },
    {
      "cell_type": "markdown",
      "source": [
        "#Analysis"
      ],
      "metadata": {
        "id": "RUGGU_4sL07E"
      }
    },
    {
      "cell_type": "code",
      "source": [
        "# load the data\n",
        "file_path = '/content/drive/MyDrive/Colab Notebooks/data/research/NELA-GT Dataset/'\n",
        "nela_true = pd.read_csv(file_path + 'LIWC-22 Results - label_0_data - LIWC Analysis.csv')\n",
        "nela_false = pd.read_csv(file_path + 'LIWC-22 Results - label_1_data - LIWC Analysis.csv')\n",
        "\n",
        "# filter out unwanted columns\n",
        "nela_scores_true = nela_true.loc[:, ['Analytic', 'Authentic', 'BigWords', 'ppron']]\n",
        "nela_scores_false = nela_false.loc[:, ['Analytic', 'Authentic', 'BigWords', 'ppron']]"
      ],
      "metadata": {
        "colab": {
          "base_uri": "https://localhost:8080/"
        },
        "id": "l4UrGXcuKVyY",
        "outputId": "aaa08e45-e430-4e6c-9053-73985033218c"
      },
      "execution_count": null,
      "outputs": [
        {
          "output_type": "stream",
          "name": "stderr",
          "text": [
            "<ipython-input-8-ecc9a4414ceb>:3: DtypeWarning: Columns (5) have mixed types. Specify dtype option on import or set low_memory=False.\n",
            "  nela_true = pd.read_csv(file_path + 'LIWC-22 Results - label_0_data - LIWC Analysis.csv')\n",
            "<ipython-input-8-ecc9a4414ceb>:4: DtypeWarning: Columns (5,7) have mixed types. Specify dtype option on import or set low_memory=False.\n",
            "  nela_false = pd.read_csv(file_path + 'LIWC-22 Results - label_1_data - LIWC Analysis.csv')\n"
          ]
        }
      ]
    },
    {
      "cell_type": "code",
      "source": [
        "# Calculate the mean and median for each category in each DataFrame\n",
        "true_means = nela_scores_true.mean()\n",
        "false_means = nela_scores_false.mean()\n",
        "true_medians = nela_scores_true.median()\n",
        "false_medians = nela_scores_false.median()\n",
        "\n",
        "# Create a list of the category names\n",
        "categories = ['Analytic', 'Authentic', 'BigWords', 'ppron']\n",
        "\n",
        "# Create lists of the true and false means and medians for each category\n",
        "true_means_list = [true_means[category] for category in categories]\n",
        "false_means_list = [false_means[category] for category in categories]\n",
        "true_medians_list = [true_medians[category] for category in categories]\n",
        "false_medians_list = [false_medians[category] for category in categories]"
      ],
      "metadata": {
        "id": "temsG-iIKwvT"
      },
      "execution_count": null,
      "outputs": []
    },
    {
      "cell_type": "code",
      "source": [
        "import matplotlib.pyplot as plt\n",
        "\n",
        "# Create a figure with two subplots\n",
        "fig, (ax1, ax2) = plt.subplots(1, 2, figsize=(10,5))\n",
        "\n",
        "# Set the bar width\n",
        "bar_width = 0.35\n",
        "\n",
        "# Plot the mean bar graph in the first subplot\n",
        "r1 = range(len(categories))\n",
        "r2 = [x + bar_width for x in r1]\n",
        "ax1.bar(r1, true_means_list, color='blue', width=bar_width, edgecolor='white', label='TRUE')\n",
        "ax1.bar(r2, false_means_list, color='orange', width=bar_width, edgecolor='white', label='FALSE')\n",
        "ax1.set_xlabel('Category')\n",
        "ax1.set_ylabel('Mean Score')\n",
        "ax1.set_xticks([r + bar_width/2 for r in range(len(categories))])\n",
        "ax1.set_xticklabels(categories)\n",
        "ax1.set_title('Mean Scores by Category and Label')\n",
        "ax1.legend()\n",
        "\n",
        "# Plot the median bar graph in the second subplot\n",
        "r1 = range(len(categories))\n",
        "r2 = [x + bar_width for x in r1]\n",
        "ax2.bar(r1, true_medians_list, color='blue', width=bar_width, edgecolor='white', label='TRUE')\n",
        "ax2.bar(r2, false_medians_list, color='orange', width=bar_width, edgecolor='white', label='FALSE')\n",
        "ax2.set_xlabel('Category')\n",
        "ax2.set_ylabel('Median Score')\n",
        "ax2.set_xticks([r + bar_width/2 for r in range(len(categories))])\n",
        "ax2.set_xticklabels(categories)\n",
        "ax2.set_title('Median Scores by Category and Label')\n",
        "ax2.legend()\n",
        "\n",
        "# Adjust the spacing between subplots and display the figure\n",
        "fig.tight_layout()\n",
        "plt.show()"
      ],
      "metadata": {
        "colab": {
          "base_uri": "https://localhost:8080/",
          "height": 507
        },
        "id": "W1-NE_bGK1W1",
        "outputId": "7b11da00-a1ba-4985-c625-e869a49af159"
      },
      "execution_count": null,
      "outputs": [
        {
          "output_type": "display_data",
          "data": {
            "text/plain": [
              "<Figure size 1000x500 with 2 Axes>"
            ],
            "image/png": "[encoded data removed]"
          },
          "metadata": {}
        }
      ]
    },
    {
      "cell_type": "code",
      "source": [
        "nela_false.shape"
      ],
      "metadata": {
        "colab": {
          "base_uri": "https://localhost:8080/"
        },
        "id": "i_4FUZ_WVEI2",
        "outputId": "fce205a5-9f37-450f-a69a-731e6ab0687b"
      },
      "execution_count": null,
      "outputs": [
        {
          "output_type": "execute_result",
          "data": {
            "text/plain": [
              "(288763, 129)"
            ]
          },
          "metadata": {},
          "execution_count": 12
        }
      ]
    }
  ]
}